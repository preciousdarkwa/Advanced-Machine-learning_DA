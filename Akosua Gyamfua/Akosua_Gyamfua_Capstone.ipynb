{
 "cells": [
  {
   "cell_type": "markdown",
   "id": "42e63530-bf43-4c88-af22-5d85ded17151",
   "metadata": {},
   "source": [
    "## ANALYZING VEHICLE PRICES"
   ]
  },
  {
   "cell_type": "markdown",
   "id": "d5f4bc0d-a1a5-478a-90d6-f0487b9665a4",
   "metadata": {},
   "source": [
    "The dataset comprises various attributes related to vehicles listed on an American online marketplace. These attributes include the car's make and model, its condition, mileage, price, as well as additional information such as basics, vehicle history, and reviews. Furthermore, the dataset includes seller-related details such as seller rating, the count of ratings, and seller address. In total, the dataset encompasses more than 9000 vehicle entries, providing a comprehensive snapshot of the marketplace's offerings and seller reputations."
   ]
  },
  {
   "cell_type": "markdown",
   "id": "5e683053-482e-4215-b1ea-d0db44061560",
   "metadata": {},
   "source": [
    "# Data Understanding\n",
    "\n",
    "Utilize numpy and pandas for evaluating data characteristics and conducting essential cleaning and adjustments. This involves detecting missing values, duplicates, inconsistent entries, and ensuring proper data types. This process enhances data clarity and facilitates the development of insights."
   ]
  },
  {
   "cell_type": "code",
   "execution_count": 240,
   "id": "e1e9cebe-584f-4fb9-b785-4f5105c781b1",
   "metadata": {},
   "outputs": [],
   "source": [
    "#importing libraries\n",
    "import numpy as np\n",
    "import pandas as pd\n",
    "import matplotlib.pyplot as plt\n",
    "import seaborn as sns\n",
    "import re"
   ]
  },
  {
   "cell_type": "code",
   "execution_count": 241,
   "id": "e104452f-89fd-4657-a9e7-97a9f2e971d7",
   "metadata": {},
   "outputs": [
    {
     "data": {
      "text/html": [
       "<div>\n",
       "<style scoped>\n",
       "    .dataframe tbody tr th:only-of-type {\n",
       "        vertical-align: middle;\n",
       "    }\n",
       "\n",
       "    .dataframe tbody tr th {\n",
       "        vertical-align: top;\n",
       "    }\n",
       "\n",
       "    .dataframe thead th {\n",
       "        text-align: right;\n",
       "    }\n",
       "</style>\n",
       "<table border=\"1\" class=\"dataframe\">\n",
       "  <thead>\n",
       "    <tr style=\"text-align: right;\">\n",
       "      <th></th>\n",
       "      <th>Car</th>\n",
       "      <th>Condition</th>\n",
       "      <th>Mileage</th>\n",
       "      <th>Price</th>\n",
       "      <th>Basics Info</th>\n",
       "      <th>Vehicle History Info</th>\n",
       "      <th>Vehicle Reviews Info</th>\n",
       "      <th>Seller Rating</th>\n",
       "      <th>Seller Rating Count</th>\n",
       "      <th>Seller Address</th>\n",
       "    </tr>\n",
       "  </thead>\n",
       "  <tbody>\n",
       "    <tr>\n",
       "      <th>0</th>\n",
       "      <td>2024 Lexus LC 500 Base</td>\n",
       "      <td>New</td>\n",
       "      <td>0 mi.</td>\n",
       "      <td>$112,865MSRP $118,865</td>\n",
       "      <td>{'Exterior color': ' Caviar ', 'Interior color...</td>\n",
       "      <td>{}</td>\n",
       "      <td>{}</td>\n",
       "      <td>4.7</td>\n",
       "      <td>(1,261 reviews)</td>\n",
       "      <td>1250 W Division St Chicago, IL 60642</td>\n",
       "    </tr>\n",
       "    <tr>\n",
       "      <th>1</th>\n",
       "      <td>2007 Acura TSX Base</td>\n",
       "      <td>Used</td>\n",
       "      <td>61,110 mi.</td>\n",
       "      <td>$11,295</td>\n",
       "      <td>{'Exterior color': ' Alabaster Silver Metallic...</td>\n",
       "      <td>{'Accidents or damage': 'At least 1 accident o...</td>\n",
       "      <td>{}</td>\n",
       "      <td>4.2</td>\n",
       "      <td>(440 reviews)</td>\n",
       "      <td>1301 N Elston Ave Chicago, IL 60642</td>\n",
       "    </tr>\n",
       "    <tr>\n",
       "      <th>2</th>\n",
       "      <td>2016 McLaren 675LT Base</td>\n",
       "      <td>Used</td>\n",
       "      <td>6,305 mi.</td>\n",
       "      <td>$219,997$5,464 price drop</td>\n",
       "      <td>{'Exterior color': ' McLaren Orange ', 'Interi...</td>\n",
       "      <td>{'Accidents or damage': 'At least 1 accident o...</td>\n",
       "      <td>{'Comfort': '5.0', 'Interior': '5.0', 'Perform...</td>\n",
       "      <td>3.1</td>\n",
       "      <td>(421 reviews)</td>\n",
       "      <td>1561 N Fremont St Chicago, IL 60642</td>\n",
       "    </tr>\n",
       "    <tr>\n",
       "      <th>3</th>\n",
       "      <td>2016 Audi TTS 2.0T quattro</td>\n",
       "      <td>Used</td>\n",
       "      <td>65,715 mi.</td>\n",
       "      <td>$23,999</td>\n",
       "      <td>{'Exterior color': ' Black ', 'Interior color'...</td>\n",
       "      <td>{'Accidents or damage': 'At least 1 accident o...</td>\n",
       "      <td>{'Comfort': '3.0', 'Interior': '5.0', 'Perform...</td>\n",
       "      <td>3.6</td>\n",
       "      <td>(123 reviews)</td>\n",
       "      <td>560 E North Ave West Chicago, IL 60185</td>\n",
       "    </tr>\n",
       "    <tr>\n",
       "      <th>4</th>\n",
       "      <td>2018 BMW 740e xDrive iPerformance</td>\n",
       "      <td>Used</td>\n",
       "      <td>19,830 mi.</td>\n",
       "      <td>$39,799$100 price drop</td>\n",
       "      <td>{'Exterior color': ' Imperial Blue Metallic ',...</td>\n",
       "      <td>{'Accidents or damage': 'None reported', 'Clea...</td>\n",
       "      <td>{'Comfort': '5.0', 'Interior': '5.0', 'Perform...</td>\n",
       "      <td>4.4</td>\n",
       "      <td>(91 reviews)</td>\n",
       "      <td>6539 Ogden Ave Berwyn, IL 60402</td>\n",
       "    </tr>\n",
       "    <tr>\n",
       "      <th>...</th>\n",
       "      <td>...</td>\n",
       "      <td>...</td>\n",
       "      <td>...</td>\n",
       "      <td>...</td>\n",
       "      <td>...</td>\n",
       "      <td>...</td>\n",
       "      <td>...</td>\n",
       "      <td>...</td>\n",
       "      <td>...</td>\n",
       "      <td>...</td>\n",
       "    </tr>\n",
       "    <tr>\n",
       "      <th>9241</th>\n",
       "      <td>NaN</td>\n",
       "      <td>NaN</td>\n",
       "      <td>NaN</td>\n",
       "      <td>NaN</td>\n",
       "      <td>{}</td>\n",
       "      <td>{}</td>\n",
       "      <td>{}</td>\n",
       "      <td>NaN</td>\n",
       "      <td>NaN</td>\n",
       "      <td>NaN</td>\n",
       "    </tr>\n",
       "    <tr>\n",
       "      <th>9242</th>\n",
       "      <td>2022 BMW X3 xDrive30i</td>\n",
       "      <td>Used</td>\n",
       "      <td>48,804 mi.</td>\n",
       "      <td>$27,979$998 price drop</td>\n",
       "      <td>{'Exterior color': ' Dark Graphite Metallic ',...</td>\n",
       "      <td>{'Accidents or damage': 'None reported', '1-ow...</td>\n",
       "      <td>{}</td>\n",
       "      <td>4.8</td>\n",
       "      <td>(3,739 reviews)</td>\n",
       "      <td>1313 Rand Road Des Plaines, IL 60016</td>\n",
       "    </tr>\n",
       "    <tr>\n",
       "      <th>9243</th>\n",
       "      <td>2024 GMC Sierra 1500 Pro</td>\n",
       "      <td>New</td>\n",
       "      <td>3 mi.</td>\n",
       "      <td>$51,080MSRP $51,080</td>\n",
       "      <td>{'Exterior color': ' Summit White ', 'Interior...</td>\n",
       "      <td>{}</td>\n",
       "      <td>{'Comfort': '5.0', 'Interior': '5.0', 'Perform...</td>\n",
       "      <td>4.5</td>\n",
       "      <td>(3,896 reviews)</td>\n",
       "      <td>8425 159th St Tinley Park, IL 60487</td>\n",
       "    </tr>\n",
       "    <tr>\n",
       "      <th>9244</th>\n",
       "      <td>2012 GMC Terrain SLT-1</td>\n",
       "      <td>Used</td>\n",
       "      <td>146,694 mi.</td>\n",
       "      <td>$8,995</td>\n",
       "      <td>{'Exterior color': ' Black ', 'Interior color'...</td>\n",
       "      <td>{'Accidents or damage': 'At least 1 accident o...</td>\n",
       "      <td>{}</td>\n",
       "      <td>NaN</td>\n",
       "      <td>NaN</td>\n",
       "      <td>13840 South Pulaski Road Crestwood, IL 60445</td>\n",
       "    </tr>\n",
       "    <tr>\n",
       "      <th>9245</th>\n",
       "      <td>2024 Subaru Outback Touring XT</td>\n",
       "      <td>New</td>\n",
       "      <td>4 mi.</td>\n",
       "      <td>$42,014</td>\n",
       "      <td>{'Exterior color': ' Magnetite Gray Metallic '...</td>\n",
       "      <td>{}</td>\n",
       "      <td>{'Comfort': '4.0', 'Interior': '4.0', 'Perform...</td>\n",
       "      <td>NaN</td>\n",
       "      <td>NaN</td>\n",
       "      <td>1350 Park Ave W Highland Park, IL 60035</td>\n",
       "    </tr>\n",
       "  </tbody>\n",
       "</table>\n",
       "<p>9246 rows × 10 columns</p>\n",
       "</div>"
      ],
      "text/plain": [
       "                                    Car Condition       Mileage  \\\n",
       "0                2024 Lexus LC 500 Base       New         0 mi.   \n",
       "1                   2007 Acura TSX Base      Used    61,110 mi.   \n",
       "2               2016 McLaren 675LT Base      Used     6,305 mi.   \n",
       "3            2016 Audi TTS 2.0T quattro      Used    65,715 mi.   \n",
       "4     2018 BMW 740e xDrive iPerformance      Used    19,830 mi.   \n",
       "...                                 ...       ...           ...   \n",
       "9241                                NaN       NaN           NaN   \n",
       "9242              2022 BMW X3 xDrive30i      Used    48,804 mi.   \n",
       "9243           2024 GMC Sierra 1500 Pro       New         3 mi.   \n",
       "9244             2012 GMC Terrain SLT-1      Used   146,694 mi.   \n",
       "9245     2024 Subaru Outback Touring XT       New         4 mi.   \n",
       "\n",
       "                          Price  \\\n",
       "0         $112,865MSRP $118,865   \n",
       "1                       $11,295   \n",
       "2     $219,997$5,464 price drop   \n",
       "3                       $23,999   \n",
       "4        $39,799$100 price drop   \n",
       "...                         ...   \n",
       "9241                        NaN   \n",
       "9242     $27,979$998 price drop   \n",
       "9243        $51,080MSRP $51,080   \n",
       "9244                     $8,995   \n",
       "9245                    $42,014   \n",
       "\n",
       "                                            Basics Info  \\\n",
       "0     {'Exterior color': ' Caviar ', 'Interior color...   \n",
       "1     {'Exterior color': ' Alabaster Silver Metallic...   \n",
       "2     {'Exterior color': ' McLaren Orange ', 'Interi...   \n",
       "3     {'Exterior color': ' Black ', 'Interior color'...   \n",
       "4     {'Exterior color': ' Imperial Blue Metallic ',...   \n",
       "...                                                 ...   \n",
       "9241                                                 {}   \n",
       "9242  {'Exterior color': ' Dark Graphite Metallic ',...   \n",
       "9243  {'Exterior color': ' Summit White ', 'Interior...   \n",
       "9244  {'Exterior color': ' Black ', 'Interior color'...   \n",
       "9245  {'Exterior color': ' Magnetite Gray Metallic '...   \n",
       "\n",
       "                                   Vehicle History Info  \\\n",
       "0                                                    {}   \n",
       "1     {'Accidents or damage': 'At least 1 accident o...   \n",
       "2     {'Accidents or damage': 'At least 1 accident o...   \n",
       "3     {'Accidents or damage': 'At least 1 accident o...   \n",
       "4     {'Accidents or damage': 'None reported', 'Clea...   \n",
       "...                                                 ...   \n",
       "9241                                                 {}   \n",
       "9242  {'Accidents or damage': 'None reported', '1-ow...   \n",
       "9243                                                 {}   \n",
       "9244  {'Accidents or damage': 'At least 1 accident o...   \n",
       "9245                                                 {}   \n",
       "\n",
       "                                   Vehicle Reviews Info  Seller Rating  \\\n",
       "0                                                    {}            4.7   \n",
       "1                                                    {}            4.2   \n",
       "2     {'Comfort': '5.0', 'Interior': '5.0', 'Perform...            3.1   \n",
       "3     {'Comfort': '3.0', 'Interior': '5.0', 'Perform...            3.6   \n",
       "4     {'Comfort': '5.0', 'Interior': '5.0', 'Perform...            4.4   \n",
       "...                                                 ...            ...   \n",
       "9241                                                 {}            NaN   \n",
       "9242                                                 {}            4.8   \n",
       "9243  {'Comfort': '5.0', 'Interior': '5.0', 'Perform...            4.5   \n",
       "9244                                                 {}            NaN   \n",
       "9245  {'Comfort': '4.0', 'Interior': '4.0', 'Perform...            NaN   \n",
       "\n",
       "     Seller Rating Count                                Seller Address  \n",
       "0        (1,261 reviews)          1250 W Division St Chicago, IL 60642  \n",
       "1          (440 reviews)           1301 N Elston Ave Chicago, IL 60642  \n",
       "2          (421 reviews)           1561 N Fremont St Chicago, IL 60642  \n",
       "3          (123 reviews)        560 E North Ave West Chicago, IL 60185  \n",
       "4           (91 reviews)               6539 Ogden Ave Berwyn, IL 60402  \n",
       "...                  ...                                           ...  \n",
       "9241                 NaN                                           NaN  \n",
       "9242     (3,739 reviews)          1313 Rand Road Des Plaines, IL 60016  \n",
       "9243     (3,896 reviews)           8425 159th St Tinley Park, IL 60487  \n",
       "9244                 NaN  13840 South Pulaski Road Crestwood, IL 60445  \n",
       "9245                 NaN       1350 Park Ave W Highland Park, IL 60035  \n",
       "\n",
       "[9246 rows x 10 columns]"
      ]
     },
     "execution_count": 241,
     "metadata": {},
     "output_type": "execute_result"
    }
   ],
   "source": [
    "#importing the dataset\n",
    "car4sales= pd.read_csv('cars_for_sale(uncleaned).csv')\n",
    "car4sales"
   ]
  },
  {
   "cell_type": "code",
   "execution_count": 242,
   "id": "d85189ea-708c-4a85-ad3a-ee305fc1bf5d",
   "metadata": {},
   "outputs": [
    {
     "data": {
      "text/html": [
       "<div>\n",
       "<style scoped>\n",
       "    .dataframe tbody tr th:only-of-type {\n",
       "        vertical-align: middle;\n",
       "    }\n",
       "\n",
       "    .dataframe tbody tr th {\n",
       "        vertical-align: top;\n",
       "    }\n",
       "\n",
       "    .dataframe thead th {\n",
       "        text-align: right;\n",
       "    }\n",
       "</style>\n",
       "<table border=\"1\" class=\"dataframe\">\n",
       "  <thead>\n",
       "    <tr style=\"text-align: right;\">\n",
       "      <th></th>\n",
       "      <th>Seller Rating</th>\n",
       "    </tr>\n",
       "  </thead>\n",
       "  <tbody>\n",
       "    <tr>\n",
       "      <th>count</th>\n",
       "      <td>7716.000000</td>\n",
       "    </tr>\n",
       "    <tr>\n",
       "      <th>mean</th>\n",
       "      <td>4.383307</td>\n",
       "    </tr>\n",
       "    <tr>\n",
       "      <th>std</th>\n",
       "      <td>0.609811</td>\n",
       "    </tr>\n",
       "    <tr>\n",
       "      <th>min</th>\n",
       "      <td>1.300000</td>\n",
       "    </tr>\n",
       "    <tr>\n",
       "      <th>25%</th>\n",
       "      <td>4.200000</td>\n",
       "    </tr>\n",
       "    <tr>\n",
       "      <th>50%</th>\n",
       "      <td>4.600000</td>\n",
       "    </tr>\n",
       "    <tr>\n",
       "      <th>75%</th>\n",
       "      <td>4.800000</td>\n",
       "    </tr>\n",
       "    <tr>\n",
       "      <th>max</th>\n",
       "      <td>5.000000</td>\n",
       "    </tr>\n",
       "  </tbody>\n",
       "</table>\n",
       "</div>"
      ],
      "text/plain": [
       "       Seller Rating\n",
       "count    7716.000000\n",
       "mean        4.383307\n",
       "std         0.609811\n",
       "min         1.300000\n",
       "25%         4.200000\n",
       "50%         4.600000\n",
       "75%         4.800000\n",
       "max         5.000000"
      ]
     },
     "execution_count": 242,
     "metadata": {},
     "output_type": "execute_result"
    }
   ],
   "source": [
    "#summary of the data\n",
    "car4sales.describe()"
   ]
  },
  {
   "cell_type": "code",
   "execution_count": 243,
   "id": "22759a86-5191-4359-a278-b8b366df5d38",
   "metadata": {},
   "outputs": [
    {
     "data": {
      "text/plain": [
       "(9246, 10)"
      ]
     },
     "execution_count": 243,
     "metadata": {},
     "output_type": "execute_result"
    }
   ],
   "source": [
    "#shape of the data\n",
    "car4sales.shape"
   ]
  },
  {
   "cell_type": "code",
   "execution_count": 244,
   "id": "8e044060-f8a6-4f54-a004-f0151b44624e",
   "metadata": {},
   "outputs": [
    {
     "data": {
      "text/plain": [
       "['Car',\n",
       " 'Condition',\n",
       " 'Mileage',\n",
       " 'Price',\n",
       " 'Basics Info',\n",
       " 'Vehicle History Info',\n",
       " 'Vehicle Reviews Info',\n",
       " 'Seller Rating',\n",
       " 'Seller Rating Count',\n",
       " 'Seller Address']"
      ]
     },
     "execution_count": 244,
     "metadata": {},
     "output_type": "execute_result"
    }
   ],
   "source": [
    "#analysing column names present\n",
    "list(car4sales.columns)"
   ]
  },
  {
   "cell_type": "code",
   "execution_count": 245,
   "id": "02751fca-9c89-49a4-8426-87bc4e254f28",
   "metadata": {},
   "outputs": [
    {
     "name": "stdout",
     "output_type": "stream",
     "text": [
      "<class 'pandas.core.frame.DataFrame'>\n",
      "RangeIndex: 9246 entries, 0 to 9245\n",
      "Data columns (total 10 columns):\n",
      " #   Column                Non-Null Count  Dtype  \n",
      "---  ------                --------------  -----  \n",
      " 0   Car                   9071 non-null   object \n",
      " 1   Condition             9071 non-null   object \n",
      " 2   Mileage               9071 non-null   object \n",
      " 3   Price                 9071 non-null   object \n",
      " 4   Basics Info           9242 non-null   object \n",
      " 5   Vehicle History Info  9242 non-null   object \n",
      " 6   Vehicle Reviews Info  9242 non-null   object \n",
      " 7   Seller Rating         7716 non-null   float64\n",
      " 8   Seller Rating Count   7716 non-null   object \n",
      " 9   Seller Address        8954 non-null   object \n",
      "dtypes: float64(1), object(9)\n",
      "memory usage: 722.5+ KB\n"
     ]
    }
   ],
   "source": [
    "#inspecting the data\n",
    "car4sales.info()"
   ]
  },
  {
   "cell_type": "markdown",
   "id": "a1d51a9f-dece-4257-a8d1-531bfc4b5b6a",
   "metadata": {},
   "source": [
    "# Data Cleaning"
   ]
  },
  {
   "cell_type": "code",
   "execution_count": 246,
   "id": "00633f7b-1390-46e7-a285-f4f8f5abdab3",
   "metadata": {},
   "outputs": [
    {
     "data": {
      "text/plain": [
       "Basics Info                4\n",
       "Vehicle History Info       4\n",
       "Vehicle Reviews Info       4\n",
       "Car                      175\n",
       "Condition                175\n",
       "Mileage                  175\n",
       "Price                    175\n",
       "Seller Address           292\n",
       "Seller Rating           1530\n",
       "Seller Rating Count     1530\n",
       "dtype: int64"
      ]
     },
     "execution_count": 246,
     "metadata": {},
     "output_type": "execute_result"
    }
   ],
   "source": [
    "#checking for blanks\n",
    "car4sales.isna().sum().sort_values()"
   ]
  },
  {
   "cell_type": "code",
   "execution_count": 247,
   "id": "a4289b36-8154-407c-b764-bae13f5f97b6",
   "metadata": {},
   "outputs": [],
   "source": [
    "#removing blanks\n",
    "car4sales.dropna(inplace=True)"
   ]
  },
  {
   "cell_type": "code",
   "execution_count": 248,
   "id": "cadbfbb1-61a4-4ce2-aa81-04f82eb68b8f",
   "metadata": {},
   "outputs": [
    {
     "data": {
      "text/plain": [
       "4843"
      ]
     },
     "execution_count": 248,
     "metadata": {},
     "output_type": "execute_result"
    }
   ],
   "source": [
    "#checking for duplicates\n",
    "car4sales['Car'].duplicated().sum()"
   ]
  },
  {
   "cell_type": "code",
   "execution_count": 249,
   "id": "8cd086a9-d5e7-4dd4-989b-f1e533dc7f0c",
   "metadata": {},
   "outputs": [],
   "source": [
    "#removing duplicates\n",
    "cars4sale= car4sales.drop_duplicates(inplace=True)"
   ]
  },
  {
   "cell_type": "code",
   "execution_count": 250,
   "id": "456c8af4-8b27-41e5-b72f-f02495c8e0f5",
   "metadata": {},
   "outputs": [
    {
     "name": "stdout",
     "output_type": "stream",
     "text": [
      "<class 'pandas.core.frame.DataFrame'>\n",
      "Index: 5762 entries, 0 to 9243\n",
      "Data columns (total 10 columns):\n",
      " #   Column                Non-Null Count  Dtype  \n",
      "---  ------                --------------  -----  \n",
      " 0   Car                   5762 non-null   object \n",
      " 1   Condition             5762 non-null   object \n",
      " 2   Mileage               5762 non-null   object \n",
      " 3   Price                 5762 non-null   object \n",
      " 4   Basics Info           5762 non-null   object \n",
      " 5   Vehicle History Info  5762 non-null   object \n",
      " 6   Vehicle Reviews Info  5762 non-null   object \n",
      " 7   Seller Rating         5762 non-null   float64\n",
      " 8   Seller Rating Count   5762 non-null   object \n",
      " 9   Seller Address        5762 non-null   object \n",
      "dtypes: float64(1), object(9)\n",
      "memory usage: 495.2+ KB\n"
     ]
    }
   ],
   "source": [
    "#inspecting data after removing blanks and duplicates\n",
    "car4sales.info()"
   ]
  },
  {
   "cell_type": "code",
   "execution_count": 251,
   "id": "50a30784-1110-4072-b187-d2fb60c2b3e9",
   "metadata": {},
   "outputs": [
    {
     "data": {
      "text/plain": [
       "(5762, 10)"
      ]
     },
     "execution_count": 251,
     "metadata": {},
     "output_type": "execute_result"
    }
   ],
   "source": [
    "#shape of data\n",
    "car4sales.shape"
   ]
  },
  {
   "cell_type": "code",
   "execution_count": 252,
   "id": "37245dd2-5ad1-4756-b517-84e0851c360f",
   "metadata": {},
   "outputs": [],
   "source": [
    "#splitting columns\n",
    "#split car column into two\n",
    "def split_car_info(car_info):\n",
    "    parts = car_info.split(' ', 1)\n",
    "    if len(parts) == 2:\n",
    "        return parts[0], parts[1]\n",
    "    else:\n",
    "        return parts[0], None\n",
    "\n",
    "car4sales[['Year', 'Make_Model']] = car4sales['Car'].apply(lambda x: pd.Series(split_car_info(x)))\n",
    "\n",
    "# Drop the original car column\n",
    "car4sales.drop(columns=['Car'], inplace=True)"
   ]
  },
  {
   "cell_type": "code",
   "execution_count": 253,
   "id": "d83a1d5d-cb3c-4177-bff2-ed994312b85b",
   "metadata": {},
   "outputs": [],
   "source": [
    "# Split the 'basics info' column by comma and expand into separate columns\n",
    "split_info = car4sales['Basics Info'].str.split(', ', expand=True)\n",
    "\n",
    "# Assign the split columns to new column names\n",
    "car4sales['Exterior_Color'] = split_info[0]\n",
    "car4sales['Interior_Color'] = split_info[1]\n",
    "car4sales['Drive_Train'] = split_info[2]\n",
    "\n",
    "# Drop the original 'basics info' column\n",
    "car4sales.drop(columns=['Basics Info'], inplace=True)"
   ]
  },
  {
   "cell_type": "code",
   "execution_count": 254,
   "id": "cfa8d674-6c8a-4650-a012-1a419e29336f",
   "metadata": {},
   "outputs": [],
   "source": [
    "# Replace spaces with underscores in column headers\n",
    "car4sales.columns = car4sales.columns.str.replace(' ', '_')"
   ]
  },
  {
   "cell_type": "code",
   "execution_count": 255,
   "id": "548e0af9-a032-42f8-b5d5-3729247f5d7e",
   "metadata": {},
   "outputs": [
    {
     "data": {
      "text/html": [
       "<div>\n",
       "<style scoped>\n",
       "    .dataframe tbody tr th:only-of-type {\n",
       "        vertical-align: middle;\n",
       "    }\n",
       "\n",
       "    .dataframe tbody tr th {\n",
       "        vertical-align: top;\n",
       "    }\n",
       "\n",
       "    .dataframe thead th {\n",
       "        text-align: right;\n",
       "    }\n",
       "</style>\n",
       "<table border=\"1\" class=\"dataframe\">\n",
       "  <thead>\n",
       "    <tr style=\"text-align: right;\">\n",
       "      <th></th>\n",
       "      <th>Condition</th>\n",
       "      <th>Mileage</th>\n",
       "      <th>Price</th>\n",
       "      <th>Vehicle_History_Info</th>\n",
       "      <th>Vehicle_Reviews_Info</th>\n",
       "      <th>Seller_Rating</th>\n",
       "      <th>Seller_Rating_Count</th>\n",
       "      <th>Seller_Address</th>\n",
       "      <th>Year</th>\n",
       "      <th>Make_Model</th>\n",
       "      <th>Exterior_Color</th>\n",
       "      <th>Interior_Color</th>\n",
       "      <th>Drive_Train</th>\n",
       "    </tr>\n",
       "  </thead>\n",
       "  <tbody>\n",
       "    <tr>\n",
       "      <th>0</th>\n",
       "      <td>New</td>\n",
       "      <td>0 mi.</td>\n",
       "      <td>$112,865MSRP $118,865</td>\n",
       "      <td>{}</td>\n",
       "      <td>{}</td>\n",
       "      <td>4.7</td>\n",
       "      <td>(1,261 reviews)</td>\n",
       "      <td>1250 W Division St Chicago, IL 60642</td>\n",
       "      <td>2024</td>\n",
       "      <td>Lexus LC 500 Base</td>\n",
       "      <td>{'Exterior color': ' Caviar '</td>\n",
       "      <td>'Interior color': 'Black '</td>\n",
       "      <td>'Drivetrain': 'Rear-wheel Drive '</td>\n",
       "    </tr>\n",
       "    <tr>\n",
       "      <th>1</th>\n",
       "      <td>Used</td>\n",
       "      <td>61,110 mi.</td>\n",
       "      <td>$11,295</td>\n",
       "      <td>{'Accidents or damage': 'At least 1 accident o...</td>\n",
       "      <td>{}</td>\n",
       "      <td>4.2</td>\n",
       "      <td>(440 reviews)</td>\n",
       "      <td>1301 N Elston Ave Chicago, IL 60642</td>\n",
       "      <td>2007</td>\n",
       "      <td>Acura TSX Base</td>\n",
       "      <td>{'Exterior color': ' Alabaster Silver Metallic '</td>\n",
       "      <td>'Interior color': '– '</td>\n",
       "      <td>'Drivetrain': 'Front-wheel Drive '</td>\n",
       "    </tr>\n",
       "  </tbody>\n",
       "</table>\n",
       "</div>"
      ],
      "text/plain": [
       "  Condition      Mileage                  Price  \\\n",
       "0       New        0 mi.  $112,865MSRP $118,865   \n",
       "1      Used   61,110 mi.                $11,295   \n",
       "\n",
       "                                Vehicle_History_Info Vehicle_Reviews_Info  \\\n",
       "0                                                 {}                   {}   \n",
       "1  {'Accidents or damage': 'At least 1 accident o...                   {}   \n",
       "\n",
       "   Seller_Rating Seller_Rating_Count                        Seller_Address  \\\n",
       "0            4.7     (1,261 reviews)  1250 W Division St Chicago, IL 60642   \n",
       "1            4.2       (440 reviews)   1301 N Elston Ave Chicago, IL 60642   \n",
       "\n",
       "   Year         Make_Model                                    Exterior_Color  \\\n",
       "0  2024  Lexus LC 500 Base                     {'Exterior color': ' Caviar '   \n",
       "1  2007     Acura TSX Base  {'Exterior color': ' Alabaster Silver Metallic '   \n",
       "\n",
       "               Interior_Color                         Drive_Train  \n",
       "0  'Interior color': 'Black '   'Drivetrain': 'Rear-wheel Drive '  \n",
       "1      'Interior color': '– '  'Drivetrain': 'Front-wheel Drive '  "
      ]
     },
     "execution_count": 255,
     "metadata": {},
     "output_type": "execute_result"
    }
   ],
   "source": [
    "car4sales.head(2)"
   ]
  },
  {
   "cell_type": "code",
   "execution_count": 256,
   "id": "953732eb-c573-44a1-bbdf-ef79db7f533a",
   "metadata": {},
   "outputs": [],
   "source": [
    "# Split the 'vehicle history info' column by comma and expand into separate columns\n",
    "split_info = car4sales['Vehicle_History_Info'].str.split(', ', expand=True)\n",
    "\n",
    "# Assign the split columns to new column names\n",
    "car4sales['Accidents_or_Damage'] = split_info[0]\n",
    "\n",
    "# Drop the original 'vehicle history in0f' column\n",
    "car4sales.drop(columns=['Vehicle_History_Info'], inplace=True)"
   ]
  },
  {
   "cell_type": "code",
   "execution_count": 257,
   "id": "099b7786-e074-48e8-bc26-a26c91057b80",
   "metadata": {},
   "outputs": [
    {
     "data": {
      "text/html": [
       "<div>\n",
       "<style scoped>\n",
       "    .dataframe tbody tr th:only-of-type {\n",
       "        vertical-align: middle;\n",
       "    }\n",
       "\n",
       "    .dataframe tbody tr th {\n",
       "        vertical-align: top;\n",
       "    }\n",
       "\n",
       "    .dataframe thead th {\n",
       "        text-align: right;\n",
       "    }\n",
       "</style>\n",
       "<table border=\"1\" class=\"dataframe\">\n",
       "  <thead>\n",
       "    <tr style=\"text-align: right;\">\n",
       "      <th></th>\n",
       "      <th>Condition</th>\n",
       "      <th>Mileage</th>\n",
       "      <th>Price</th>\n",
       "      <th>Vehicle_Reviews_Info</th>\n",
       "      <th>Seller_Rating</th>\n",
       "      <th>Seller_Rating_Count</th>\n",
       "      <th>Seller_Address</th>\n",
       "      <th>Year</th>\n",
       "      <th>Make_Model</th>\n",
       "      <th>Exterior_Color</th>\n",
       "      <th>Interior_Color</th>\n",
       "      <th>Drive_Train</th>\n",
       "      <th>Accidents_or_Damage</th>\n",
       "    </tr>\n",
       "  </thead>\n",
       "  <tbody>\n",
       "    <tr>\n",
       "      <th>0</th>\n",
       "      <td>New</td>\n",
       "      <td>0 mi.</td>\n",
       "      <td>$112,865MSRP $118,865</td>\n",
       "      <td>{}</td>\n",
       "      <td>4.7</td>\n",
       "      <td>(1,261 reviews)</td>\n",
       "      <td>1250 W Division St Chicago, IL 60642</td>\n",
       "      <td>2024</td>\n",
       "      <td>Lexus LC 500 Base</td>\n",
       "      <td>{'Exterior color': ' Caviar '</td>\n",
       "      <td>'Interior color': 'Black '</td>\n",
       "      <td>'Drivetrain': 'Rear-wheel Drive '</td>\n",
       "      <td>{}</td>\n",
       "    </tr>\n",
       "    <tr>\n",
       "      <th>1</th>\n",
       "      <td>Used</td>\n",
       "      <td>61,110 mi.</td>\n",
       "      <td>$11,295</td>\n",
       "      <td>{}</td>\n",
       "      <td>4.2</td>\n",
       "      <td>(440 reviews)</td>\n",
       "      <td>1301 N Elston Ave Chicago, IL 60642</td>\n",
       "      <td>2007</td>\n",
       "      <td>Acura TSX Base</td>\n",
       "      <td>{'Exterior color': ' Alabaster Silver Metallic '</td>\n",
       "      <td>'Interior color': '– '</td>\n",
       "      <td>'Drivetrain': 'Front-wheel Drive '</td>\n",
       "      <td>{'Accidents or damage': 'At least 1 accident o...</td>\n",
       "    </tr>\n",
       "    <tr>\n",
       "      <th>2</th>\n",
       "      <td>Used</td>\n",
       "      <td>6,305 mi.</td>\n",
       "      <td>$219,997$5,464 price drop</td>\n",
       "      <td>{'Comfort': '5.0', 'Interior': '5.0', 'Perform...</td>\n",
       "      <td>3.1</td>\n",
       "      <td>(421 reviews)</td>\n",
       "      <td>1561 N Fremont St Chicago, IL 60642</td>\n",
       "      <td>2016</td>\n",
       "      <td>McLaren 675LT Base</td>\n",
       "      <td>{'Exterior color': ' McLaren Orange '</td>\n",
       "      <td>'Interior color': 'Carbon Black '</td>\n",
       "      <td>'Drivetrain': 'Rear-wheel Drive '</td>\n",
       "      <td>{'Accidents or damage': 'At least 1 accident o...</td>\n",
       "    </tr>\n",
       "  </tbody>\n",
       "</table>\n",
       "</div>"
      ],
      "text/plain": [
       "  Condition      Mileage                      Price  \\\n",
       "0       New        0 mi.      $112,865MSRP $118,865   \n",
       "1      Used   61,110 mi.                    $11,295   \n",
       "2      Used    6,305 mi.  $219,997$5,464 price drop   \n",
       "\n",
       "                                Vehicle_Reviews_Info  Seller_Rating  \\\n",
       "0                                                 {}            4.7   \n",
       "1                                                 {}            4.2   \n",
       "2  {'Comfort': '5.0', 'Interior': '5.0', 'Perform...            3.1   \n",
       "\n",
       "  Seller_Rating_Count                        Seller_Address  Year  \\\n",
       "0     (1,261 reviews)  1250 W Division St Chicago, IL 60642  2024   \n",
       "1       (440 reviews)   1301 N Elston Ave Chicago, IL 60642  2007   \n",
       "2       (421 reviews)   1561 N Fremont St Chicago, IL 60642  2016   \n",
       "\n",
       "           Make_Model                                    Exterior_Color  \\\n",
       "0   Lexus LC 500 Base                     {'Exterior color': ' Caviar '   \n",
       "1      Acura TSX Base  {'Exterior color': ' Alabaster Silver Metallic '   \n",
       "2  McLaren 675LT Base             {'Exterior color': ' McLaren Orange '   \n",
       "\n",
       "                      Interior_Color                         Drive_Train  \\\n",
       "0         'Interior color': 'Black '   'Drivetrain': 'Rear-wheel Drive '   \n",
       "1             'Interior color': '– '  'Drivetrain': 'Front-wheel Drive '   \n",
       "2  'Interior color': 'Carbon Black '   'Drivetrain': 'Rear-wheel Drive '   \n",
       "\n",
       "                                 Accidents_or_Damage  \n",
       "0                                                 {}  \n",
       "1  {'Accidents or damage': 'At least 1 accident o...  \n",
       "2  {'Accidents or damage': 'At least 1 accident o...  "
      ]
     },
     "execution_count": 257,
     "metadata": {},
     "output_type": "execute_result"
    }
   ],
   "source": [
    "car4sales.head(3)"
   ]
  },
  {
   "cell_type": "code",
   "execution_count": 258,
   "id": "98d769ba-6f58-4030-adb4-0a2b5d7c3ace",
   "metadata": {},
   "outputs": [],
   "source": [
    "#dropping columns not to be used\n",
    "uncolm= ['Vehicle_Reviews_Info','Seller_Address','Accidents_or_Damage']\n",
    "car4sales.drop(columns=uncolm, inplace=True)"
   ]
  },
  {
   "cell_type": "code",
   "execution_count": 259,
   "id": "01e7070f-a45c-4dc4-a436-3e8f829013ed",
   "metadata": {},
   "outputs": [
    {
     "data": {
      "text/html": [
       "<div>\n",
       "<style scoped>\n",
       "    .dataframe tbody tr th:only-of-type {\n",
       "        vertical-align: middle;\n",
       "    }\n",
       "\n",
       "    .dataframe tbody tr th {\n",
       "        vertical-align: top;\n",
       "    }\n",
       "\n",
       "    .dataframe thead th {\n",
       "        text-align: right;\n",
       "    }\n",
       "</style>\n",
       "<table border=\"1\" class=\"dataframe\">\n",
       "  <thead>\n",
       "    <tr style=\"text-align: right;\">\n",
       "      <th></th>\n",
       "      <th>Condition</th>\n",
       "      <th>Mileage</th>\n",
       "      <th>Price</th>\n",
       "      <th>Seller_Rating</th>\n",
       "      <th>Seller_Rating_Count</th>\n",
       "      <th>Year</th>\n",
       "      <th>Make_Model</th>\n",
       "      <th>Exterior_Color</th>\n",
       "      <th>Interior_Color</th>\n",
       "      <th>Drive_Train</th>\n",
       "    </tr>\n",
       "  </thead>\n",
       "  <tbody>\n",
       "    <tr>\n",
       "      <th>0</th>\n",
       "      <td>New</td>\n",
       "      <td>0 mi.</td>\n",
       "      <td>$112,865MSRP $118,865</td>\n",
       "      <td>4.7</td>\n",
       "      <td>(1,261 reviews)</td>\n",
       "      <td>2024</td>\n",
       "      <td>Lexus LC 500 Base</td>\n",
       "      <td>{'Exterior color': ' Caviar '</td>\n",
       "      <td>'Interior color': 'Black '</td>\n",
       "      <td>'Drivetrain': 'Rear-wheel Drive '</td>\n",
       "    </tr>\n",
       "    <tr>\n",
       "      <th>1</th>\n",
       "      <td>Used</td>\n",
       "      <td>61,110 mi.</td>\n",
       "      <td>$11,295</td>\n",
       "      <td>4.2</td>\n",
       "      <td>(440 reviews)</td>\n",
       "      <td>2007</td>\n",
       "      <td>Acura TSX Base</td>\n",
       "      <td>{'Exterior color': ' Alabaster Silver Metallic '</td>\n",
       "      <td>'Interior color': '– '</td>\n",
       "      <td>'Drivetrain': 'Front-wheel Drive '</td>\n",
       "    </tr>\n",
       "    <tr>\n",
       "      <th>2</th>\n",
       "      <td>Used</td>\n",
       "      <td>6,305 mi.</td>\n",
       "      <td>$219,997$5,464 price drop</td>\n",
       "      <td>3.1</td>\n",
       "      <td>(421 reviews)</td>\n",
       "      <td>2016</td>\n",
       "      <td>McLaren 675LT Base</td>\n",
       "      <td>{'Exterior color': ' McLaren Orange '</td>\n",
       "      <td>'Interior color': 'Carbon Black '</td>\n",
       "      <td>'Drivetrain': 'Rear-wheel Drive '</td>\n",
       "    </tr>\n",
       "  </tbody>\n",
       "</table>\n",
       "</div>"
      ],
      "text/plain": [
       "  Condition      Mileage                      Price  Seller_Rating  \\\n",
       "0       New        0 mi.      $112,865MSRP $118,865            4.7   \n",
       "1      Used   61,110 mi.                    $11,295            4.2   \n",
       "2      Used    6,305 mi.  $219,997$5,464 price drop            3.1   \n",
       "\n",
       "  Seller_Rating_Count  Year          Make_Model  \\\n",
       "0     (1,261 reviews)  2024   Lexus LC 500 Base   \n",
       "1       (440 reviews)  2007      Acura TSX Base   \n",
       "2       (421 reviews)  2016  McLaren 675LT Base   \n",
       "\n",
       "                                     Exterior_Color  \\\n",
       "0                     {'Exterior color': ' Caviar '   \n",
       "1  {'Exterior color': ' Alabaster Silver Metallic '   \n",
       "2             {'Exterior color': ' McLaren Orange '   \n",
       "\n",
       "                      Interior_Color                         Drive_Train  \n",
       "0         'Interior color': 'Black '   'Drivetrain': 'Rear-wheel Drive '  \n",
       "1             'Interior color': '– '  'Drivetrain': 'Front-wheel Drive '  \n",
       "2  'Interior color': 'Carbon Black '   'Drivetrain': 'Rear-wheel Drive '  "
      ]
     },
     "execution_count": 259,
     "metadata": {},
     "output_type": "execute_result"
    }
   ],
   "source": [
    "car4sales.head(3)"
   ]
  },
  {
   "cell_type": "code",
   "execution_count": 260,
   "id": "9345dcb7-5c4b-40ba-a686-9e49ce9d4d5b",
   "metadata": {},
   "outputs": [],
   "source": [
    "# Extract the numerical values using regular expression\n",
    "car4sales['Seller_Rating_Count'] = car4sales['Seller_Rating_Count'].str.extract(r'([\\d,]+)')"
   ]
  },
  {
   "cell_type": "code",
   "execution_count": 261,
   "id": "ee5f124f-96fe-4769-9817-d64b95eaafc9",
   "metadata": {},
   "outputs": [],
   "source": [
    "# Remove specified substring from each value in Exterior_Color column\n",
    "car4sales['Exterior_Color'] = car4sales['Exterior_Color'].str.replace(\"{'Exterior color': '\", '').str.replace(\"'\", '')"
   ]
  },
  {
   "cell_type": "code",
   "execution_count": 262,
   "id": "39b70f56-7a72-46e6-b1a7-04420ea8bafe",
   "metadata": {},
   "outputs": [],
   "source": [
    "# Remove specified substring from each value in Interior_Color column\n",
    "car4sales['Interior_Color'] = car4sales['Interior_Color'].str.replace(\"'Interior color': '\", '').str.replace(\"'\", '')"
   ]
  },
  {
   "cell_type": "code",
   "execution_count": 263,
   "id": "aac925ae-c524-4761-945b-9f0bb97052a8",
   "metadata": {},
   "outputs": [],
   "source": [
    "# Remove specified substring from each value in Drivetrain column\n",
    "car4sales['Drive_Train'] = car4sales['Drive_Train'].str.replace(\"'Drivetrain': '\", '').str.replace(\"'\", '')"
   ]
  },
  {
   "cell_type": "code",
   "execution_count": 264,
   "id": "61f8353e-990a-444c-9281-d341f98bff0e",
   "metadata": {},
   "outputs": [
    {
     "data": {
      "text/html": [
       "<div>\n",
       "<style scoped>\n",
       "    .dataframe tbody tr th:only-of-type {\n",
       "        vertical-align: middle;\n",
       "    }\n",
       "\n",
       "    .dataframe tbody tr th {\n",
       "        vertical-align: top;\n",
       "    }\n",
       "\n",
       "    .dataframe thead th {\n",
       "        text-align: right;\n",
       "    }\n",
       "</style>\n",
       "<table border=\"1\" class=\"dataframe\">\n",
       "  <thead>\n",
       "    <tr style=\"text-align: right;\">\n",
       "      <th></th>\n",
       "      <th>Condition</th>\n",
       "      <th>Mileage</th>\n",
       "      <th>Price</th>\n",
       "      <th>Seller_Rating</th>\n",
       "      <th>Seller_Rating_Count</th>\n",
       "      <th>Year</th>\n",
       "      <th>Make_Model</th>\n",
       "      <th>Exterior_Color</th>\n",
       "      <th>Interior_Color</th>\n",
       "      <th>Drive_Train</th>\n",
       "    </tr>\n",
       "  </thead>\n",
       "  <tbody>\n",
       "    <tr>\n",
       "      <th>0</th>\n",
       "      <td>New</td>\n",
       "      <td>0 mi.</td>\n",
       "      <td>$112,865MSRP $118,865</td>\n",
       "      <td>4.7</td>\n",
       "      <td>1,261</td>\n",
       "      <td>2024</td>\n",
       "      <td>Lexus LC 500 Base</td>\n",
       "      <td>Caviar</td>\n",
       "      <td>Black</td>\n",
       "      <td>Rear-wheel Drive</td>\n",
       "    </tr>\n",
       "  </tbody>\n",
       "</table>\n",
       "</div>"
      ],
      "text/plain": [
       "  Condition Mileage                  Price  Seller_Rating Seller_Rating_Count  \\\n",
       "0       New   0 mi.  $112,865MSRP $118,865            4.7               1,261   \n",
       "\n",
       "   Year         Make_Model Exterior_Color Interior_Color        Drive_Train  \n",
       "0  2024  Lexus LC 500 Base        Caviar          Black   Rear-wheel Drive   "
      ]
     },
     "execution_count": 264,
     "metadata": {},
     "output_type": "execute_result"
    }
   ],
   "source": [
    "car4sales.head(1)"
   ]
  },
  {
   "cell_type": "code",
   "execution_count": 265,
   "id": "00339679-5e10-4038-ab32-91ba2a000c38",
   "metadata": {},
   "outputs": [],
   "source": [
    "# Function to extract the final price value from the string\n",
    "def extract_price(value):\n",
    "    parts = value.split()\n",
    "    for part in parts:\n",
    "        if part.startswith('$') and ',' in part:\n",
    "            return part\n",
    "    return value\n",
    "\n",
    "# Apply the function to the 'Price' column\n",
    "car4sales['Price'] = car4sales['Price'].apply(extract_price)"
   ]
  },
  {
   "cell_type": "code",
   "execution_count": 266,
   "id": "ac47f02c-f447-40c0-8aff-e415b03254fb",
   "metadata": {},
   "outputs": [],
   "source": [
    "# Function to extract the price up to and including the first comma and three digits\n",
    "import re\n",
    "def extract_price(value):\n",
    "    match = re.search(r'\\$\\d{1,3}(,\\d{3})*', value)\n",
    "    if match:\n",
    "        return match.group(0)\n",
    "    return value\n",
    "\n",
    "# Apply the function to the 'Price' column\n",
    "car4sales['Price'] = car4sales['Price'].apply(extract_price)"
   ]
  },
  {
   "cell_type": "code",
   "execution_count": 267,
   "id": "b7997aaa-4de8-4bdb-be3a-584f46e59c00",
   "metadata": {},
   "outputs": [
    {
     "data": {
      "text/html": [
       "<div>\n",
       "<style scoped>\n",
       "    .dataframe tbody tr th:only-of-type {\n",
       "        vertical-align: middle;\n",
       "    }\n",
       "\n",
       "    .dataframe tbody tr th {\n",
       "        vertical-align: top;\n",
       "    }\n",
       "\n",
       "    .dataframe thead th {\n",
       "        text-align: right;\n",
       "    }\n",
       "</style>\n",
       "<table border=\"1\" class=\"dataframe\">\n",
       "  <thead>\n",
       "    <tr style=\"text-align: right;\">\n",
       "      <th></th>\n",
       "      <th>Condition</th>\n",
       "      <th>Mileage</th>\n",
       "      <th>Price</th>\n",
       "      <th>Seller_Rating</th>\n",
       "      <th>Seller_Rating_Count</th>\n",
       "      <th>Year</th>\n",
       "      <th>Make_Model</th>\n",
       "      <th>Exterior_Color</th>\n",
       "      <th>Interior_Color</th>\n",
       "      <th>Drive_Train</th>\n",
       "    </tr>\n",
       "  </thead>\n",
       "  <tbody>\n",
       "    <tr>\n",
       "      <th>0</th>\n",
       "      <td>New</td>\n",
       "      <td>0 mi.</td>\n",
       "      <td>$112,865</td>\n",
       "      <td>4.7</td>\n",
       "      <td>1,261</td>\n",
       "      <td>2024</td>\n",
       "      <td>Lexus LC 500 Base</td>\n",
       "      <td>Caviar</td>\n",
       "      <td>Black</td>\n",
       "      <td>Rear-wheel Drive</td>\n",
       "    </tr>\n",
       "    <tr>\n",
       "      <th>1</th>\n",
       "      <td>Used</td>\n",
       "      <td>61,110 mi.</td>\n",
       "      <td>$11,295</td>\n",
       "      <td>4.2</td>\n",
       "      <td>440</td>\n",
       "      <td>2007</td>\n",
       "      <td>Acura TSX Base</td>\n",
       "      <td>Alabaster Silver Metallic</td>\n",
       "      <td>–</td>\n",
       "      <td>Front-wheel Drive</td>\n",
       "    </tr>\n",
       "    <tr>\n",
       "      <th>2</th>\n",
       "      <td>Used</td>\n",
       "      <td>6,305 mi.</td>\n",
       "      <td>$219,997</td>\n",
       "      <td>3.1</td>\n",
       "      <td>421</td>\n",
       "      <td>2016</td>\n",
       "      <td>McLaren 675LT Base</td>\n",
       "      <td>McLaren Orange</td>\n",
       "      <td>Carbon Black</td>\n",
       "      <td>Rear-wheel Drive</td>\n",
       "    </tr>\n",
       "    <tr>\n",
       "      <th>3</th>\n",
       "      <td>Used</td>\n",
       "      <td>65,715 mi.</td>\n",
       "      <td>$23,999</td>\n",
       "      <td>3.6</td>\n",
       "      <td>123</td>\n",
       "      <td>2016</td>\n",
       "      <td>Audi TTS 2.0T quattro</td>\n",
       "      <td>Black</td>\n",
       "      <td>Black</td>\n",
       "      <td>All-wheel Drive</td>\n",
       "    </tr>\n",
       "    <tr>\n",
       "      <th>4</th>\n",
       "      <td>Used</td>\n",
       "      <td>19,830 mi.</td>\n",
       "      <td>$39,799</td>\n",
       "      <td>4.4</td>\n",
       "      <td>91</td>\n",
       "      <td>2018</td>\n",
       "      <td>BMW 740e xDrive iPerformance</td>\n",
       "      <td>Imperial Blue Metallic</td>\n",
       "      <td>Black</td>\n",
       "      <td>All-wheel Drive</td>\n",
       "    </tr>\n",
       "  </tbody>\n",
       "</table>\n",
       "</div>"
      ],
      "text/plain": [
       "  Condition      Mileage     Price  Seller_Rating Seller_Rating_Count  Year  \\\n",
       "0       New        0 mi.  $112,865            4.7               1,261  2024   \n",
       "1      Used   61,110 mi.   $11,295            4.2                 440  2007   \n",
       "2      Used    6,305 mi.  $219,997            3.1                 421  2016   \n",
       "3      Used   65,715 mi.   $23,999            3.6                 123  2016   \n",
       "4      Used   19,830 mi.   $39,799            4.4                  91  2018   \n",
       "\n",
       "                     Make_Model               Exterior_Color Interior_Color  \\\n",
       "0             Lexus LC 500 Base                      Caviar          Black    \n",
       "1                Acura TSX Base   Alabaster Silver Metallic              –    \n",
       "2            McLaren 675LT Base              McLaren Orange   Carbon Black    \n",
       "3         Audi TTS 2.0T quattro                       Black          Black    \n",
       "4  BMW 740e xDrive iPerformance      Imperial Blue Metallic          Black    \n",
       "\n",
       "          Drive_Train  \n",
       "0   Rear-wheel Drive   \n",
       "1  Front-wheel Drive   \n",
       "2   Rear-wheel Drive   \n",
       "3    All-wheel Drive   \n",
       "4    All-wheel Drive   "
      ]
     },
     "execution_count": 267,
     "metadata": {},
     "output_type": "execute_result"
    }
   ],
   "source": [
    "car4sales.head(5)"
   ]
  },
  {
   "cell_type": "code",
   "execution_count": 268,
   "id": "ccb1a6d5-ba19-46b0-be09-037bb9aff4ae",
   "metadata": {},
   "outputs": [],
   "source": [
    "# Function to clean and convert price strings to floats\n",
    "def convert_price(value):\n",
    "    # Check if the value is 'Not Priced'\n",
    "    if value == 'Not Priced':\n",
    "        return float('NaN')  \n",
    "    # Check if the value is already a float\n",
    "    if isinstance(value, float):\n",
    "        return value\n",
    "    # Remove the dollar sign and commas\n",
    "    value = value.replace('$', '').replace(',', '')\n",
    "    # Convert to float\n",
    "    return float(value)\n",
    "\n",
    "# Apply the function to the 'Price' column and convert the column to floats\n",
    "car4sales['Price'] = car4sales['Price'].apply(convert_price)"
   ]
  },
  {
   "cell_type": "code",
   "execution_count": 269,
   "id": "64bb480e-c972-46a7-b557-3be41bcea3ba",
   "metadata": {},
   "outputs": [],
   "source": [
    "#removing commas in seller rating count column\n",
    "car4sales['Seller_Rating_Count'] = car4sales['Seller_Rating_Count'].str.replace(',', '')"
   ]
  },
  {
   "cell_type": "code",
   "execution_count": 270,
   "id": "ddd4d90e-b401-4679-b2d9-0f857b3f860e",
   "metadata": {},
   "outputs": [
    {
     "data": {
      "text/plain": [
       "dtype('int32')"
      ]
     },
     "execution_count": 270,
     "metadata": {},
     "output_type": "execute_result"
    }
   ],
   "source": [
    "car4sales['Seller_Rating_Count'] = car4sales['Seller_Rating_Count'].astype('int')\n",
    "car4sales['Seller_Rating_Count'].dtype"
   ]
  },
  {
   "cell_type": "code",
   "execution_count": 271,
   "id": "528c6789-0e18-4f6d-af4a-5b1a7b6988f8",
   "metadata": {},
   "outputs": [],
   "source": [
    "# Renaming price column\n",
    "car4sales.rename(columns={'Price': 'Price_$'}, inplace=True)"
   ]
  },
  {
   "cell_type": "code",
   "execution_count": 272,
   "id": "98402b6d-71ee-4910-b0a5-ea4a3dd046b4",
   "metadata": {},
   "outputs": [],
   "source": [
    "#replacing values\n",
    "car4sales['Drive_Train'] = car4sales['Drive_Train'].replace({'4WD': 'Four-wheel Drive', 'FWD': 'Front-wheel Drive', 'AWD': 'All-wheel Drive'})"
   ]
  },
  {
   "cell_type": "code",
   "execution_count": 273,
   "id": "3a4fefb3-d67e-4c7b-aef8-885b9cc4b8c9",
   "metadata": {},
   "outputs": [],
   "source": [
    "car4sales['Drive_Train'] = car4sales['Drive_Train'].replace({'4WD ': 'Four-wheel Drive', 'FWD ': 'Front-wheel Drive', 'AWD ': 'All-wheel Drive'})"
   ]
  },
  {
   "cell_type": "code",
   "execution_count": 293,
   "id": "cef29317-8e45-4da3-a64f-e69648a09fe0",
   "metadata": {},
   "outputs": [
    {
     "name": "stderr",
     "output_type": "stream",
     "text": [
      "C:\\Users\\aasar\\AppData\\Local\\Temp\\ipykernel_15120\\2635707948.py:1: SettingWithCopyWarning: \n",
      "A value is trying to be set on a copy of a slice from a DataFrame.\n",
      "Try using .loc[row_indexer,col_indexer] = value instead\n",
      "\n",
      "See the caveats in the documentation: https://pandas.pydata.org/pandas-docs/stable/user_guide/indexing.html#returning-a-view-versus-a-copy\n",
      "  car4sales['Drive_Train'] = car4sales['Drive_Train'].replace({'RWD': 'Rear-wheel Drive', 'Unknown':np.nan,  '–': np.nan})\n"
     ]
    }
   ],
   "source": [
    "car4sales['Drive_Train'] = car4sales['Drive_Train'].replace({'RWD': 'Rear-wheel Drive', 'Unknown':np.nan,  '–': np.nan})"
   ]
  },
  {
   "cell_type": "code",
   "execution_count": 275,
   "id": "7d4d578d-33c9-4b41-a806-b7049ecde573",
   "metadata": {},
   "outputs": [],
   "source": [
    "car4sales['Drive_Train'] = car4sales['Drive_Train'].str.strip()"
   ]
  },
  {
   "cell_type": "code",
   "execution_count": 294,
   "id": "3044572a-974c-4733-a670-9643868b8ab4",
   "metadata": {},
   "outputs": [
    {
     "data": {
      "text/plain": [
       "array(['Rear-wheel Drive', 'Front-wheel Drive', 'All-wheel Drive',\n",
       "       'Four-wheel Drive', ' '], dtype=object)"
      ]
     },
     "execution_count": 294,
     "metadata": {},
     "output_type": "execute_result"
    }
   ],
   "source": [
    "car4sales['Drive_Train'].unique()"
   ]
  },
  {
   "cell_type": "code",
   "execution_count": 295,
   "id": "cbd13406-7bc7-4682-9920-e471c58bdd0b",
   "metadata": {},
   "outputs": [
    {
     "data": {
      "text/html": [
       "<div>\n",
       "<style scoped>\n",
       "    .dataframe tbody tr th:only-of-type {\n",
       "        vertical-align: middle;\n",
       "    }\n",
       "\n",
       "    .dataframe tbody tr th {\n",
       "        vertical-align: top;\n",
       "    }\n",
       "\n",
       "    .dataframe thead th {\n",
       "        text-align: right;\n",
       "    }\n",
       "</style>\n",
       "<table border=\"1\" class=\"dataframe\">\n",
       "  <thead>\n",
       "    <tr style=\"text-align: right;\">\n",
       "      <th></th>\n",
       "      <th>Make_Model</th>\n",
       "      <th>Year</th>\n",
       "      <th>Exterior_Color</th>\n",
       "      <th>Interior_Color</th>\n",
       "      <th>Mileage</th>\n",
       "      <th>Price_$</th>\n",
       "      <th>Drive_Train</th>\n",
       "      <th>Seller_Rating</th>\n",
       "      <th>Seller_Rating_Count</th>\n",
       "    </tr>\n",
       "  </thead>\n",
       "  <tbody>\n",
       "    <tr>\n",
       "      <th>0</th>\n",
       "      <td>Lexus LC 500 Base</td>\n",
       "      <td>2024</td>\n",
       "      <td>Caviar</td>\n",
       "      <td>Black</td>\n",
       "      <td>0 mi.</td>\n",
       "      <td>112865.0</td>\n",
       "      <td>Rear-wheel Drive</td>\n",
       "      <td>4.7</td>\n",
       "      <td>1261</td>\n",
       "    </tr>\n",
       "    <tr>\n",
       "      <th>1</th>\n",
       "      <td>Acura TSX Base</td>\n",
       "      <td>2007</td>\n",
       "      <td>Alabaster Silver Metallic</td>\n",
       "      <td>–</td>\n",
       "      <td>61,110 mi.</td>\n",
       "      <td>11295.0</td>\n",
       "      <td>Front-wheel Drive</td>\n",
       "      <td>4.2</td>\n",
       "      <td>440</td>\n",
       "    </tr>\n",
       "    <tr>\n",
       "      <th>2</th>\n",
       "      <td>McLaren 675LT Base</td>\n",
       "      <td>2016</td>\n",
       "      <td>McLaren Orange</td>\n",
       "      <td>Carbon Black</td>\n",
       "      <td>6,305 mi.</td>\n",
       "      <td>219997.0</td>\n",
       "      <td>Rear-wheel Drive</td>\n",
       "      <td>3.1</td>\n",
       "      <td>421</td>\n",
       "    </tr>\n",
       "    <tr>\n",
       "      <th>3</th>\n",
       "      <td>Audi TTS 2.0T quattro</td>\n",
       "      <td>2016</td>\n",
       "      <td>Black</td>\n",
       "      <td>Black</td>\n",
       "      <td>65,715 mi.</td>\n",
       "      <td>23999.0</td>\n",
       "      <td>All-wheel Drive</td>\n",
       "      <td>3.6</td>\n",
       "      <td>123</td>\n",
       "    </tr>\n",
       "    <tr>\n",
       "      <th>4</th>\n",
       "      <td>BMW 740e xDrive iPerformance</td>\n",
       "      <td>2018</td>\n",
       "      <td>Imperial Blue Metallic</td>\n",
       "      <td>Black</td>\n",
       "      <td>19,830 mi.</td>\n",
       "      <td>39799.0</td>\n",
       "      <td>All-wheel Drive</td>\n",
       "      <td>4.4</td>\n",
       "      <td>91</td>\n",
       "    </tr>\n",
       "    <tr>\n",
       "      <th>...</th>\n",
       "      <td>...</td>\n",
       "      <td>...</td>\n",
       "      <td>...</td>\n",
       "      <td>...</td>\n",
       "      <td>...</td>\n",
       "      <td>...</td>\n",
       "      <td>...</td>\n",
       "      <td>...</td>\n",
       "      <td>...</td>\n",
       "    </tr>\n",
       "    <tr>\n",
       "      <th>9217</th>\n",
       "      <td>Alfa Romeo Tonale Veloce EAWD</td>\n",
       "      <td>2024</td>\n",
       "      <td>Alfa White</td>\n",
       "      <td>Black</td>\n",
       "      <td>3,246 mi.</td>\n",
       "      <td>45179.0</td>\n",
       "      <td>All-wheel Drive</td>\n",
       "      <td>4.8</td>\n",
       "      <td>105</td>\n",
       "    </tr>\n",
       "    <tr>\n",
       "      <th>9222</th>\n",
       "      <td>Jeep Grand Cherokee L Limited</td>\n",
       "      <td>2024</td>\n",
       "      <td>Diamond Black Crystal Pearlcoat</td>\n",
       "      <td>B6x7</td>\n",
       "      <td>11 mi.</td>\n",
       "      <td>45735.0</td>\n",
       "      <td>Four-wheel Drive</td>\n",
       "      <td>4.2</td>\n",
       "      <td>1632</td>\n",
       "    </tr>\n",
       "    <tr>\n",
       "      <th>9230</th>\n",
       "      <td>Audi SQ5 3.0T Prestige</td>\n",
       "      <td>2021</td>\n",
       "      <td>Quantum Gray</td>\n",
       "      <td>Black</td>\n",
       "      <td>40,291 mi.</td>\n",
       "      <td>41795.0</td>\n",
       "      <td>All-wheel Drive</td>\n",
       "      <td>2.9</td>\n",
       "      <td>43</td>\n",
       "    </tr>\n",
       "    <tr>\n",
       "      <th>9233</th>\n",
       "      <td>Mercedes-Benz C-Class C 300 4MATIC</td>\n",
       "      <td>2024</td>\n",
       "      <td>Graphite Gray Metallic</td>\n",
       "      <td>AMG Black</td>\n",
       "      <td>11 mi.</td>\n",
       "      <td>62405.0</td>\n",
       "      <td>All-wheel Drive</td>\n",
       "      <td>4.6</td>\n",
       "      <td>1245</td>\n",
       "    </tr>\n",
       "    <tr>\n",
       "      <th>9243</th>\n",
       "      <td>GMC Sierra 1500 Pro</td>\n",
       "      <td>2024</td>\n",
       "      <td>Summit White</td>\n",
       "      <td>Black</td>\n",
       "      <td>3 mi.</td>\n",
       "      <td>51080.0</td>\n",
       "      <td>Four-wheel Drive</td>\n",
       "      <td>4.5</td>\n",
       "      <td>3896</td>\n",
       "    </tr>\n",
       "  </tbody>\n",
       "</table>\n",
       "<p>5750 rows × 9 columns</p>\n",
       "</div>"
      ],
      "text/plain": [
       "                              Make_Model  Year  \\\n",
       "0                      Lexus LC 500 Base  2024   \n",
       "1                         Acura TSX Base  2007   \n",
       "2                     McLaren 675LT Base  2016   \n",
       "3                  Audi TTS 2.0T quattro  2016   \n",
       "4           BMW 740e xDrive iPerformance  2018   \n",
       "...                                  ...   ...   \n",
       "9217       Alfa Romeo Tonale Veloce EAWD  2024   \n",
       "9222       Jeep Grand Cherokee L Limited  2024   \n",
       "9230              Audi SQ5 3.0T Prestige  2021   \n",
       "9233  Mercedes-Benz C-Class C 300 4MATIC  2024   \n",
       "9243                 GMC Sierra 1500 Pro  2024   \n",
       "\n",
       "                         Exterior_Color Interior_Color      Mileage   Price_$  \\\n",
       "0                               Caviar          Black         0 mi.  112865.0   \n",
       "1            Alabaster Silver Metallic              –    61,110 mi.   11295.0   \n",
       "2                       McLaren Orange   Carbon Black     6,305 mi.  219997.0   \n",
       "3                                Black          Black    65,715 mi.   23999.0   \n",
       "4               Imperial Blue Metallic          Black    19,830 mi.   39799.0   \n",
       "...                                 ...            ...          ...       ...   \n",
       "9217                        Alfa White          Black     3,246 mi.   45179.0   \n",
       "9222   Diamond Black Crystal Pearlcoat           B6x7        11 mi.   45735.0   \n",
       "9230                      Quantum Gray          Black    40,291 mi.   41795.0   \n",
       "9233            Graphite Gray Metallic      AMG Black        11 mi.   62405.0   \n",
       "9243                      Summit White          Black         3 mi.   51080.0   \n",
       "\n",
       "            Drive_Train  Seller_Rating  Seller_Rating_Count  \n",
       "0      Rear-wheel Drive            4.7                 1261  \n",
       "1     Front-wheel Drive            4.2                  440  \n",
       "2      Rear-wheel Drive            3.1                  421  \n",
       "3       All-wheel Drive            3.6                  123  \n",
       "4       All-wheel Drive            4.4                   91  \n",
       "...                 ...            ...                  ...  \n",
       "9217    All-wheel Drive            4.8                  105  \n",
       "9222   Four-wheel Drive            4.2                 1632  \n",
       "9230    All-wheel Drive            2.9                   43  \n",
       "9233    All-wheel Drive            4.6                 1245  \n",
       "9243   Four-wheel Drive            4.5                 3896  \n",
       "\n",
       "[5750 rows x 9 columns]"
      ]
     },
     "execution_count": 295,
     "metadata": {},
     "output_type": "execute_result"
    }
   ],
   "source": [
    "car4sales.dropna()"
   ]
  },
  {
   "cell_type": "code",
   "execution_count": 278,
   "id": "c74b279e-a68f-4281-99dd-efe77af1de6b",
   "metadata": {},
   "outputs": [],
   "source": [
    "# Define the desired column order\n",
    "cars = ['Make_Model', 'Year','Exterior_Color', 'Interior_Color','Mileage','Price_$', 'Drive_Train', 'Seller_Rating', 'Seller_Rating_Count']\n",
    "\n",
    "# Reorder columns\n",
    "car4sales = car4sales[cars]"
   ]
  },
  {
   "cell_type": "code",
   "execution_count": 281,
   "id": "ea988197-a633-4a22-9234-3feda890d8dc",
   "metadata": {},
   "outputs": [
    {
     "name": "stderr",
     "output_type": "stream",
     "text": [
      "C:\\Users\\aasar\\AppData\\Local\\Temp\\ipykernel_15120\\3830545881.py:1: SettingWithCopyWarning: \n",
      "A value is trying to be set on a copy of a slice from a DataFrame.\n",
      "Try using .loc[row_indexer,col_indexer] = value instead\n",
      "\n",
      "See the caveats in the documentation: https://pandas.pydata.org/pandas-docs/stable/user_guide/indexing.html#returning-a-view-versus-a-copy\n",
      "  car4sales['Year'] = car4sales['Year'].astype(int)\n"
     ]
    }
   ],
   "source": [
    "car4sales['Year'] = car4sales['Year'].astype(int)"
   ]
  },
  {
   "cell_type": "code",
   "execution_count": 282,
   "id": "bd7454c1-da16-40d5-b2e2-e7da88634047",
   "metadata": {},
   "outputs": [
    {
     "name": "stdout",
     "output_type": "stream",
     "text": [
      "<class 'pandas.core.frame.DataFrame'>\n",
      "Index: 5762 entries, 0 to 9243\n",
      "Data columns (total 9 columns):\n",
      " #   Column               Non-Null Count  Dtype  \n",
      "---  ------               --------------  -----  \n",
      " 0   Make_Model           5762 non-null   object \n",
      " 1   Year                 5762 non-null   int32  \n",
      " 2   Exterior_Color       5762 non-null   object \n",
      " 3   Interior_Color       5762 non-null   object \n",
      " 4   Mileage              5762 non-null   object \n",
      " 5   Price_$              5750 non-null   float64\n",
      " 6   Drive_Train          5762 non-null   object \n",
      " 7   Seller_Rating        5762 non-null   float64\n",
      " 8   Seller_Rating_Count  5762 non-null   int32  \n",
      "dtypes: float64(2), int32(2), object(5)\n",
      "memory usage: 405.1+ KB\n"
     ]
    }
   ],
   "source": [
    "car4sales.info()"
   ]
  },
  {
   "cell_type": "code",
   "execution_count": 296,
   "id": "e5a507b9-3029-40f3-9fd4-7ac745fa5412",
   "metadata": {},
   "outputs": [
    {
     "data": {
      "text/plain": [
       "array(['Rear-wheel Drive', 'Front-wheel Drive', 'All-wheel Drive',\n",
       "       'Four-wheel Drive', ' '], dtype=object)"
      ]
     },
     "execution_count": 296,
     "metadata": {},
     "output_type": "execute_result"
    }
   ],
   "source": [
    "car4sales['Drive_Train'].unique()"
   ]
  },
  {
   "cell_type": "code",
   "execution_count": 292,
   "id": "9d2ed6ad-b0be-49c2-bf23-0a525a2c828d",
   "metadata": {},
   "outputs": [
    {
     "data": {
      "text/plain": [
       "0"
      ]
     },
     "execution_count": 292,
     "metadata": {},
     "output_type": "execute_result"
    }
   ],
   "source": [
    "car4sales['Drive_Train'].isna().sum()"
   ]
  },
  {
   "cell_type": "markdown",
   "id": "47864970-c497-456b-ad1f-a8ceb8745b39",
   "metadata": {},
   "source": [
    "# Data Visualization"
   ]
  },
  {
   "cell_type": "code",
   "execution_count": 337,
   "id": "ce28cb50-c71f-46f0-a263-b81d01af22a5",
   "metadata": {},
   "outputs": [
    {
     "data": {
      "image/png": "[encoded data removed]",
      "text/plain": [
       "<Figure size 1200x600 with 1 Axes>"
      ]
     },
     "metadata": {},
     "output_type": "display_data"
    }
   ],
   "source": [
    "plt.figure(figsize=(12, 6))\n",
    "sns.countplot(x='Drive_Train', data=car4sales)\n",
    "plt.title('Count of Cars by Drive Train')\n",
    "plt.xlabel('Drive Train')\n",
    "plt.ylabel('Count')\n",
    "plt.show()"
   ]
  },
  {
   "cell_type": "markdown",
   "id": "a734dd6e-50ea-4cb4-b0c8-e6448604fd5f",
   "metadata": {},
   "source": [
    "This chart shows that most of the cars fall within the All-wheel Drive category, followed by Four-wheel, Front-wheel and Rear-wheel Drive"
   ]
  },
  {
   "cell_type": "code",
   "execution_count": 338,
   "id": "82ddef38-944c-4fbd-88e7-dbfe1f2700b5",
   "metadata": {},
   "outputs": [
    {
     "data": {
      "image/png": "[encoded data removed]",
      "text/plain": [
       "<Figure size 1200x600 with 1 Axes>"
      ]
     },
     "metadata": {},
     "output_type": "display_data"
    }
   ],
   "source": [
    "# Counting cars by year\n",
    "car_count_by_year = car4sales['Year'].value_counts().sort_index()\n",
    "\n",
    "# Plotting\n",
    "plt.figure(figsize=(12, 6))\n",
    "plt.plot(car_count_by_year.index, car_count_by_year.values)\n",
    "plt.title('Count of Cars by Year')\n",
    "plt.xlabel('Year')\n",
    "plt.ylabel('Count')\n",
    "plt.xticks(rotation=45)\n",
    "plt.grid(True)\n",
    "plt.show()"
   ]
  },
  {
   "cell_type": "markdown",
   "id": "1264bae7-71b8-4d07-91fa-b0c52cd58447",
   "metadata": {},
   "source": [
    "The majority of car models in the dataset appear to have been manufactured after the year 2000, based on the data represented in the line chart."
   ]
  },
  {
   "cell_type": "code",
   "execution_count": 305,
   "id": "3249acd9-aa41-4b7c-88f2-27477017dab1",
   "metadata": {},
   "outputs": [
    {
     "data": {
      "text/plain": [
       "Index(['Make_Model', 'Year', 'Exterior_Color', 'Interior_Color', 'Mileage',\n",
       "       'Price_$', 'Drive_Train', 'Seller_Rating', 'Seller_Rating_Count'],\n",
       "      dtype='object')"
      ]
     },
     "execution_count": 305,
     "metadata": {},
     "output_type": "execute_result"
    }
   ],
   "source": [
    "car4sales.columns"
   ]
  },
  {
   "cell_type": "code",
   "execution_count": 323,
   "id": "1ac7bbbf-f5eb-4d41-8e0c-b8700e98ebef",
   "metadata": {},
   "outputs": [
    {
     "data": {
      "text/plain": [
       "Interior_Color\n",
       "Black         2189\n",
       "Gray           356\n",
       "Jet Black      350\n",
       "Name: count, dtype: int64"
      ]
     },
     "execution_count": 323,
     "metadata": {},
     "output_type": "execute_result"
    }
   ],
   "source": [
    "interior_color_counts = car4sales['Interior_Color'].value_counts()\n",
    "interior_color_counts= interior_color_counts.sort_values(ascending=False)\n",
    "interior_color_counts= interior_color_counts.head(3)\n",
    "interior_color_counts"
   ]
  },
  {
   "cell_type": "code",
   "execution_count": 326,
   "id": "a3f691d2-effd-4a32-bc8d-afcbd1204d89",
   "metadata": {},
   "outputs": [
    {
     "data": {
      "image/png": "[encoded data removed]",
      "text/plain": [
       "<Figure size 1200x600 with 1 Axes>"
      ]
     },
     "metadata": {},
     "output_type": "display_data"
    }
   ],
   "source": [
    "plt.figure(figsize=(12, 6))\n",
    "plt.bar(interior_color_counts.index, interior_color_counts.values)\n",
    "plt.title('Top 3 Interior Colors')\n",
    "plt.xlabel('Interior Color')\n",
    "plt.ylabel('Count')\n",
    "plt.show()"
   ]
  },
  {
   "cell_type": "markdown",
   "id": "e40fbe45-47f3-414c-bd92-d07145b6840e",
   "metadata": {},
   "source": [
    "Based on the chart, the top three interior colors that cars are predominantly manufactured in are Black,Gray,Jet black."
   ]
  },
  {
   "cell_type": "code",
   "execution_count": 329,
   "id": "18c87a40-e312-442c-b2dc-2d2701a4546f",
   "metadata": {},
   "outputs": [
    {
     "data": {
      "text/plain": [
       "Exterior_Color\n",
       " Black                      311\n",
       " Bright White Clearcoat     195\n",
       " White                      168\n",
       " Gray                       133\n",
       " Summit White               111\n",
       "Name: count, dtype: int64"
      ]
     },
     "execution_count": 329,
     "metadata": {},
     "output_type": "execute_result"
    }
   ],
   "source": [
    "exterior_color_counts = car4sales['Exterior_Color'].value_counts()\n",
    "exterior_color_counts= exterior_color_counts.sort_values(ascending=False)\n",
    "exterior_color_counts= exterior_color_counts.head(5)\n",
    "exterior_color_counts"
   ]
  },
  {
   "cell_type": "code",
   "execution_count": 330,
   "id": "c874cc91-1332-4043-aa7e-60e6ed0b9690",
   "metadata": {},
   "outputs": [
    {
     "data": {
      "image/png": "[encoded data removed]",
      "text/plain": [
       "<Figure size 1200x600 with 1 Axes>"
      ]
     },
     "metadata": {},
     "output_type": "display_data"
    }
   ],
   "source": [
    "plt.figure(figsize=(12, 6))\n",
    "plt.bar(exterior_color_counts.index, exterior_color_counts.values)\n",
    "plt.title('Top 5 Exterior Colors')\n",
    "plt.xlabel('Exterior Color')\n",
    "plt.ylabel('Count')\n",
    "plt.show()"
   ]
  },
  {
   "cell_type": "markdown",
   "id": "048d903d-6d0d-468c-b942-ce531abcb4cb",
   "metadata": {},
   "source": [
    "Based on the chart, the top three interior colors that cars are predominantly manufactured in are Black, Brigh white clearcoat, White Gray, and \n",
    "Summer white"
   ]
  },
  {
   "cell_type": "code",
   "execution_count": 350,
   "id": "306b07bd-0f3d-4842-a1cd-4f4dbc73bc62",
   "metadata": {},
   "outputs": [
    {
     "data": {
      "image/png": "[encoded data removed]",
      "text/plain": [
       "<Figure size 1200x600 with 1 Axes>"
      ]
     },
     "metadata": {},
     "output_type": "display_data"
    }
   ],
   "source": [
    "# Relationship between Price and Mileage\n",
    "plt.figure(figsize=(12, 6))\n",
    "sns.scatterplot(x='Mileage', y='Price_$', data=car4sales)\n",
    "plt.title('Price vs Mileage (log scale)')\n",
    "plt.xlabel('Mileage')\n",
    "plt.ylabel('Price ($)')\n",
    "plt.yscale('log')\n",
    "plt.gca().axes.yaxis.set_visible(False)\n",
    "plt.show()"
   ]
  },
  {
   "cell_type": "markdown",
   "id": "785b9b27-35fb-4882-b21c-2b19df3b0cf4",
   "metadata": {},
   "source": [
    "This chart shows that there is no relationship between price and mileage"
   ]
  }
 ],
 "metadata": {
  "kernelspec": {
   "display_name": "Python 3 (ipykernel)",
   "language": "python",
   "name": "python3"
  },
  "language_info": {
   "codemirror_mode": {
    "name": "ipython",
    "version": 3
   },
   "file_extension": ".py",
   "mimetype": "text/x-python",
   "name": "python",
   "nbconvert_exporter": "python",
   "pygments_lexer": "ipython3",
   "version": "3.11.7"
  }
 },
 "nbformat": 4,
 "nbformat_minor": 5
}
